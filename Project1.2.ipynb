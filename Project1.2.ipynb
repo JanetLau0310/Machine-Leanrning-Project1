{
 "cells": [
  {
   "cell_type": "markdown",
   "metadata": {},
   "source": [
    "### Import"
   ]
  },
  {
   "cell_type": "code",
   "execution_count": 52,
   "metadata": {},
   "outputs": [],
   "source": [
    "import os\n",
    "import numpy as np\n",
    "import pandas as pd\n",
    "\n",
    "import sklearn.linear_model\n",
    "import sklearn.tree\n",
    "import sklearn.metrics\n",
    "from sklearn.preprocessing import MinMaxScaler,StandardScaler\n",
    "\n",
    "from matplotlib import pyplot as plt\n",
    "import seaborn as sns\n",
    "\n",
    "import math\n",
    "from math import log"
   ]
  },
  {
   "cell_type": "markdown",
   "metadata": {},
   "source": [
    "### Load data"
   ]
  },
  {
   "cell_type": "code",
   "execution_count": 53,
   "metadata": {},
   "outputs": [],
   "source": [
    "x_tr_original = np.loadtxt('./data_sneaker_vs_sandal/x_train.csv', delimiter=',', skiprows=1)\n",
    "x_te_original = np.loadtxt('./data_sneaker_vs_sandal/x_test.csv', delimiter=',', skiprows=1)\n",
    "\n",
    "y_tr = np.loadtxt('./data_sneaker_vs_sandal/y_train.csv', delimiter=',', skiprows=1)"
   ]
  },
  {
   "cell_type": "code",
   "execution_count": 54,
   "metadata": {},
   "outputs": [],
   "source": [
    "def train_model(X, Y, c=1.0):\n",
    "    clf = sklearn.linear_model.LogisticRegression(solver='liblinear',C=c).fit(X, Y)\n",
    "    \n",
    "    return clf\n",
    "\n",
    "def auto_train(X, Y, test_x, file_name, c=1.0, cover=0):\n",
    "    clf = train_model(X, Y, c)\n",
    "    yproba1_train = clf.predict_proba(X)[:,1]\n",
    "    yproba1_test = clf.predict_proba(test_x)[:, 1]\n",
    "    np.savetxt(file_name, yproba1_test)\n",
    "    if cover==1:\n",
    "        np.savetxt('yproba1_test.txt', yproba1_test)\n",
    "    return [yproba1_train, clf.coef_[0]]"
   ]
  },
  {
   "cell_type": "markdown",
   "metadata": {},
   "source": [
    "### 01Normalization"
   ]
  },
  {
   "cell_type": "code",
   "execution_count": 55,
   "metadata": {},
   "outputs": [],
   "source": [
    "def make_0_1(x):\n",
    "    f_max = x.shape[1]\n",
    "    row_max = x.shape[0]\n",
    "    \n",
    "    for f_index in list(range(f_max)):\n",
    "        for row_index in list(range(row_max)):\n",
    "            if x[row_index][f_index] > 0:\n",
    "                x[row_index][f_index] = 1\n",
    "                #print(x[row_index][f_index])\n",
    "    return x"
   ]
  },
  {
   "cell_type": "code",
   "execution_count": 56,
   "metadata": {},
   "outputs": [],
   "source": [
    "x_tr_01 = make_0_1(x_tr_original.copy())\n",
    "x_te_01 = make_0_1(x_te_original.copy())\n",
    "\n",
    "x_tr_all = [x_tr_original, x_tr_01]\n",
    "x_te_all = [x_te_original, x_te_01]\n",
    "\n",
    "name_all = [\"original\", \"01\"]"
   ]
  },
  {
   "cell_type": "markdown",
   "metadata": {},
   "source": [
    "### Scalar Normalization"
   ]
  },
  {
   "cell_type": "code",
   "execution_count": 57,
   "metadata": {},
   "outputs": [],
   "source": [
    "scaler = StandardScaler(with_std = False) #with_std=False is kernel center, which performs better \n",
    "scaler.fit(x_tr_original)\n",
    "x_tr_scaler = scaler.transform(x_tr_original)\n",
    "x_te_scaler = scaler.fit_transform(x_te_original)"
   ]
  },
  {
   "cell_type": "markdown",
   "metadata": {},
   "source": [
    "### Squre Data"
   ]
  },
  {
   "cell_type": "code",
   "execution_count": 58,
   "metadata": {},
   "outputs": [],
   "source": [
    "x_tr_sqr = x_tr_original.copy()\n",
    "x_te_sqr = x_te_original.copy()\n",
    "\n",
    "x_tr_01_sqr = x_tr_original.copy()\n",
    "x_te_01_sqr = x_te_original.copy()\n",
    "\n",
    "#print(len(x_tr_sqr[0]))"
   ]
  },
  {
   "cell_type": "code",
   "execution_count": 59,
   "metadata": {},
   "outputs": [],
   "source": [
    "def add_sqr(x):\n",
    "    l = len(x[0])\n",
    "    print(\"original length = \", l)\n",
    "    sqrs = []\n",
    "    for f_index in list(range(l)):\n",
    "        new_sqr = []\n",
    "        \n",
    "        for row in x:\n",
    "            new_sqr.append(row[f_index]**2)\n",
    "        \n",
    "        sqrs.append(new_sqr)\n",
    "    \n",
    "    sqrs = np.array(sqrs)\n",
    "    sqrs = sqrs.T\n",
    "    print(\"add length = \", len(sqrs[0]))\n",
    "          \n",
    "    return sqrs"
   ]
  },
  {
   "cell_type": "code",
   "execution_count": 60,
   "metadata": {},
   "outputs": [
    {
     "name": "stdout",
     "output_type": "stream",
     "text": [
      "original length =  784\n",
      "add length =  784\n",
      "original length =  784\n",
      "add length =  784\n",
      "original length =  784\n",
      "add length =  784\n",
      "original length =  784\n",
      "add length =  784\n"
     ]
    }
   ],
   "source": [
    "# original\n",
    "x_tr_sqr_add = add_sqr(x_tr_sqr)\n",
    "x_tr_sqr_all = np.c_[x_tr_sqr,x_tr_sqr_add]\n",
    "\n",
    "x_te_sqr_add = add_sqr(x_te_sqr)\n",
    "x_te_sqr_all = np.c_[x_te_sqr,x_te_sqr_add]\n",
    "\n",
    "\n",
    "# 01\n",
    "x_tr_01_sqr_add = add_sqr(x_tr_01_sqr)\n",
    "x_tr_01_sqr_all = np.c_[x_tr_01_sqr,x_tr_01_sqr_add]\n",
    "\n",
    "x_te_01_sqr_add = add_sqr(x_te_01_sqr)\n",
    "x_te_01_sqr_all = np.c_[x_te_01_sqr,x_te_01_sqr_add]"
   ]
  },
  {
   "cell_type": "code",
   "execution_count": 61,
   "metadata": {},
   "outputs": [
    {
     "name": "stdout",
     "output_type": "stream",
     "text": [
      "784\n",
      "784\n",
      "1568\n",
      "1568\n",
      "2000\n"
     ]
    }
   ],
   "source": [
    "print(len(x_tr_sqr[0]))\n",
    "print(len(x_te_sqr[0]))\n",
    "print(len(x_tr_sqr_all[0]))\n",
    "print(len(x_te_sqr_all[0]))\n",
    "print(len(x_te_sqr_all))"
   ]
  },
  {
   "cell_type": "code",
   "execution_count": 62,
   "metadata": {},
   "outputs": [],
   "source": [
    "predict_train_sqr, coef_sqr = auto_train(x_tr_sqr_all, y_tr, x_te_sqr_all, 'yproba1_test_sqr.txt', cover=1);"
   ]
  },
  {
   "cell_type": "markdown",
   "metadata": {},
   "source": [
    "### Add cubic for every feature"
   ]
  },
  {
   "cell_type": "code",
   "execution_count": 63,
   "metadata": {},
   "outputs": [],
   "source": [
    "x_tr_cub = x_tr_original.copy()\n",
    "x_te_cub = x_te_original.copy()"
   ]
  },
  {
   "cell_type": "code",
   "execution_count": 64,
   "metadata": {},
   "outputs": [],
   "source": [
    "def add_cub(x):\n",
    "    l = len(x[0])\n",
    "    print(\"original length = \", l)\n",
    "    cubs = []\n",
    "    for f_index in list(range(l)):\n",
    "        new_cub = []\n",
    "        \n",
    "        for row in x:\n",
    "            new_cub.append(row[f_index]**3)\n",
    "        \n",
    "        cubs.append(new_cub)\n",
    "    cubs = np.array(cubs)\n",
    "    cubs = cubs.T\n",
    "    print(\"add length = \", len(cubs[0]))\n",
    "    return cubs"
   ]
  },
  {
   "cell_type": "code",
   "execution_count": 65,
   "metadata": {},
   "outputs": [
    {
     "name": "stdout",
     "output_type": "stream",
     "text": [
      "original length =  784\n",
      "add length =  784\n",
      "original length =  784\n",
      "add length =  784\n"
     ]
    }
   ],
   "source": [
    "x_tr_cub_add = add_cub(x_tr_cub)\n",
    "x_te_cub_add = add_cub(x_te_cub)"
   ]
  },
  {
   "cell_type": "code",
   "execution_count": 66,
   "metadata": {},
   "outputs": [
    {
     "name": "stdout",
     "output_type": "stream",
     "text": [
      "2352\n"
     ]
    }
   ],
   "source": [
    "x_tr_cub_all = np.c_[x_tr_cub, x_tr_sqr_add, x_tr_cub_add]\n",
    "x_te_cub_all = np.c_[x_te_cub, x_te_sqr_add, x_te_cub_add]\n",
    "\n",
    "print(len(x_tr_cub_all[0]))"
   ]
  },
  {
   "cell_type": "code",
   "execution_count": 67,
   "metadata": {},
   "outputs": [],
   "source": [
    "auto_train(x_tr_cub_all, y_tr, x_te_cub_all, 'yproba1_test_cub.txt', cover=1);"
   ]
  },
  {
   "cell_type": "code",
   "execution_count": null,
   "metadata": {},
   "outputs": [],
   "source": [
    "x_tr_scaler = scaler.transform(x_tr_original)\n",
    "x_te_scaler = scaler.fit_transform(x_te_original)\n",
    "\n",
    "x_tr_cub_all = np.c_[x_tr_cub, x_tr_sqr_add, x_tr_cub_add]\n",
    "x_te_cub_all = np.c_[x_te_cub, x_te_sqr_add, x_te_cub_add]\n",
    "auto_train(x_tr_cub_all, y_tr, x_te_cub_all, 'yproba1_test_cub.txt', cover=1);"
   ]
  },
  {
   "cell_type": "markdown",
   "metadata": {},
   "source": [
    "### cubic without sqrt"
   ]
  },
  {
   "cell_type": "code",
   "execution_count": 68,
   "metadata": {},
   "outputs": [
    {
     "name": "stdout",
     "output_type": "stream",
     "text": [
      "1568\n"
     ]
    }
   ],
   "source": [
    "x_tr_cub_without_sqrt = np.c_[x_tr_cub, x_tr_cub_add]\n",
    "x_te_cub_without_sqrt = np.c_[x_te_cub, x_te_cub_add]\n",
    "print(len(x_te_cub_without_sqrt[0]))"
   ]
  },
  {
   "cell_type": "code",
   "execution_count": 69,
   "metadata": {},
   "outputs": [],
   "source": [
    "auto_train(x_tr_cub_without_sqrt, y_tr, x_te_cub_without_sqrt, 'yproba1_test_cub_without_sqrt.txt', cover=1);"
   ]
  },
  {
   "cell_type": "markdown",
   "metadata": {},
   "source": [
    "### histogram larger than 0"
   ]
  },
  {
   "cell_type": "code",
   "execution_count": 70,
   "metadata": {},
   "outputs": [],
   "source": [
    "x_tr_his_large = x_tr_original.copy()\n",
    "x_te_his_large = x_te_original.copy()"
   ]
  },
  {
   "cell_type": "code",
   "execution_count": 71,
   "metadata": {},
   "outputs": [],
   "source": [
    "def add_his_large(x):\n",
    "    l = len(x[0])\n",
    "    \n",
    "    print(\"original length = \", l)\n",
    "    counts = []\n",
    "\n",
    "        \n",
    "    for row in list(range(len(x))):\n",
    "        count = 0\n",
    "        for f_index in list(range(l)):\n",
    "            if (x[row][f_index]>0.0):\n",
    "                count = count+1\n",
    "\n",
    "        \n",
    "        counts.append(count)\n",
    "    counts = np.array(counts)\n",
    "    counts = counts.T\n",
    "    \n",
    "    return counts"
   ]
  },
  {
   "cell_type": "code",
   "execution_count": 72,
   "metadata": {},
   "outputs": [
    {
     "name": "stdout",
     "output_type": "stream",
     "text": [
      "original length =  784\n",
      "original length =  784\n"
     ]
    }
   ],
   "source": [
    "x_tr_his_large_add = add_his_large(x_tr_his_large)\n",
    "x_te_his_large_add = add_his_large(x_te_his_large)"
   ]
  },
  {
   "cell_type": "code",
   "execution_count": 73,
   "metadata": {},
   "outputs": [
    {
     "name": "stdout",
     "output_type": "stream",
     "text": [
      "(12000,)\n",
      "(2000,)\n"
     ]
    }
   ],
   "source": [
    "print(x_tr_his_large_add.shape)\n",
    "print(x_te_his_large_add.shape)"
   ]
  },
  {
   "cell_type": "code",
   "execution_count": 74,
   "metadata": {},
   "outputs": [],
   "source": [
    "x_tr_his_large = np.c_[x_tr_his_large, x_tr_his_large_add]\n",
    "x_te_his_large = np.c_[x_te_his_large, x_te_his_large_add]\n",
    "\n",
    "x_tr_01_his_large = np.c_[x_tr_01, x_tr_his_large_add]\n",
    "x_te_01_his_large = np.c_[x_te_01, x_te_his_large_add]"
   ]
  },
  {
   "cell_type": "code",
   "execution_count": 82,
   "metadata": {},
   "outputs": [],
   "source": [
    "predict_train_histogram, coef_histogram = auto_train(x_tr_01_his_large, y_tr, x_te_01_his_large, 'yproba1_test_01_his_large.txt',c=0.5,cover=1)"
   ]
  },
  {
   "cell_type": "code",
   "execution_count": 75,
   "metadata": {},
   "outputs": [],
   "source": [
    "predict_train_histogram, coef_histogram = auto_train(x_tr_01_his_large, y_tr, x_te_01_his_large, 'yproba1_test_01_his_large.txt', cover=1)\n",
    "predict_train_histogram, coef_histogram = auto_train(x_tr_his_large, y_tr, x_te_his_large, 'yproba1_test_his_large.txt', cover=1)"
   ]
  },
  {
   "cell_type": "markdown",
   "metadata": {},
   "source": [
    "### Add local average and max"
   ]
  },
  {
   "cell_type": "code",
   "execution_count": 76,
   "metadata": {},
   "outputs": [],
   "source": [
    "x_tr_aver_max = x_tr_original.copy()\n",
    "x_te_aver_max = x_te_original.copy()\n",
    "\n",
    "x_tr_01_aver_max = x_tr_original.copy()\n",
    "x_te_01_aver_max = x_te_original.copy()\n",
    "\n",
    "#print(x_tr_aver.shape[1])\n",
    "#print(x_te_aver.shape[1])"
   ]
  },
  {
   "cell_type": "code",
   "execution_count": 77,
   "metadata": {},
   "outputs": [],
   "source": [
    "def add_aver_max(x):\n",
    "    f_max = x.shape[1]\n",
    "    row_max = x.shape[0]\n",
    "\n",
    "    aves = []\n",
    "    maxs = []\n",
    "    \n",
    "    for f_index in list(range(f_max)):\n",
    "        ave_col = []\n",
    "        max_col = []\n",
    "        for row_index in list(range(row_max)):\n",
    "            count = 1\n",
    "            sum = x[row_index][f_index]\n",
    "            aver = 0\n",
    "            \n",
    "            # upleft\n",
    "            if row_index==0 or f_index==0:\n",
    "                upleft = 0\n",
    "            else:\n",
    "                upleft = x[row_index-1][f_index-1]\n",
    "                count = count + 1\n",
    "                sum = sum + upleft\n",
    "                \n",
    "            # left\n",
    "            if f_index==0:\n",
    "                left = 0\n",
    "            else:\n",
    "                left = x[row_index][f_index-1]\n",
    "                count = count + 1\n",
    "                sum = sum + left\n",
    "            \n",
    "            # downleft\n",
    "            if row_index==row_max-1 or f_index==0:\n",
    "                downleft = 0\n",
    "            else:\n",
    "                downleft = x[row_index+1][f_index-1]\n",
    "                count = count + 1\n",
    "                sum = sum + downleft\n",
    "        \n",
    "            # upright\n",
    "            if row_index==0 or f_index==f_max-1:\n",
    "                upright = 0\n",
    "            else:\n",
    "                upright = x[row_index-1][f_index+1]\n",
    "                count = count + 1\n",
    "                sum = sum + upright\n",
    "                \n",
    "            # right\n",
    "            if f_index==f_max-1:\n",
    "                right = 0\n",
    "            else:\n",
    "                right = x[row_index][f_index+1]\n",
    "                count = count + 1\n",
    "                sum = sum + right\n",
    "            \n",
    "            # downright\n",
    "            if row_index==row_max-1 or f_index==f_max-1:\n",
    "                downright = 0\n",
    "            else:\n",
    "                downright = x[row_index+1][f_index+1]\n",
    "                count = count + 1\n",
    "                sum = sum + downright\n",
    "                \n",
    "            # up\n",
    "            if row_index==0:\n",
    "                up = 0\n",
    "            else:\n",
    "                up = x[row_index-1][f_index]\n",
    "                count = count + 1\n",
    "                sum = sum + up\n",
    "\n",
    "            # down\n",
    "            if row_index==row_max-1:\n",
    "                down = 0\n",
    "            else:\n",
    "                down = x[row_index+1][f_index]\n",
    "                count = count + 1\n",
    "                sum = sum + down\n",
    "            \n",
    "            ave = sum/count\n",
    "            max_local = max(upleft, left, downleft, upright, right, downright, up, down)\n",
    "            \n",
    "            ave_col.append(ave)\n",
    "            max_col.append(max_local)\n",
    "            \n",
    "        aves.append(ave_col)\n",
    "        maxs.append(max_col)\n",
    "    \n",
    "    aves = np.array(aves)\n",
    "    maxs = np.array(maxs)\n",
    "    aves = aves.T\n",
    "    maxs = maxs.T\n",
    "    return aves, maxs"
   ]
  },
  {
   "cell_type": "code",
   "execution_count": 78,
   "metadata": {},
   "outputs": [],
   "source": [
    "# Original data\n",
    "x_tr_aver_add, x_tr_max_add = add_aver_max(x_tr_aver_max)\n",
    "x_te_aver_add, x_te_max_add = add_aver_max(x_te_aver_max)\n",
    "\n",
    "x_tr_aver_all = np.c_[x_tr_aver_max, x_tr_aver_add]\n",
    "x_te_aver_all = np.c_[x_te_aver_max, x_te_aver_add]\n",
    "#print(x_te_aver_all.shape[1])\n",
    "\n",
    "x_tr_max_all = np.c_[x_tr_aver_max, x_tr_max_add]\n",
    "x_te_max_all = np.c_[x_te_aver_max, x_te_max_add]\n",
    "#print(x_te_max_all.shape[1])"
   ]
  },
  {
   "cell_type": "code",
   "execution_count": 79,
   "metadata": {},
   "outputs": [],
   "source": [
    "# 01 Data\n",
    "x_tr_01_aver_add, x_tr_01_max_add = add_aver_max(x_tr_01_aver_max)\n",
    "x_te_01_aver_add, x_te_01_max_add = add_aver_max(x_te_01_aver_max)\n",
    "\n",
    "# average\n",
    "x_tr_01_aver_all = np.c_[x_tr_01_aver_max, x_tr_01_aver_add]\n",
    "x_te_01_aver_all = np.c_[x_te_01_aver_max, x_te_01_aver_add]\n",
    "#print(x_te_aver_all.shape[1])\n",
    "\n",
    "# max\n",
    "x_tr_01_max_all = np.c_[x_tr_01_aver_max, x_tr_01_max_add]\n",
    "x_te_01_max_all = np.c_[x_te_01_aver_max, x_te_01_max_add]\n",
    "#print(x_te_max_all.shape[1])"
   ]
  },
  {
   "cell_type": "code",
   "execution_count": 80,
   "metadata": {},
   "outputs": [],
   "source": [
    "predict_train_sqr, coef_sqr = auto_train(x_tr_sqr_all, y_tr, x_te_sqr_all, 'yproba1_test_sqr.txt', cover=1);\n",
    "[predict_train_max, coef_max] = auto_train(x_tr_max_all, y_tr, x_te_max_all, 'yproba1_test_max.txt', cover=1)\n",
    "predict_train_histogram, coef_histogram = auto_train(x_tr_his_large, y_tr, x_te_his_large, 'yproba1_test_his_large.txt', cover=1)"
   ]
  },
  {
   "cell_type": "code",
   "execution_count": 81,
   "metadata": {},
   "outputs": [],
   "source": [
    "[predict_train_01_aver, coef_01_aver] = auto_train(x_tr_01_aver_all, y_tr, x_te_01_aver_all, 'yproba1_test_01_aver.txt', cover=1)\n",
    "[predict_train_01_max, coef_01_max] = auto_train(x_tr_01_max_all, y_tr, x_te_01_max_all, 'yproba1_test_01_max.txt', cover=1)\n",
    "[predict_train_01_max_only, coef_01_max_only] = auto_train(x_tr_01_max_add, y_tr, x_te_01_max_add, 'yproba1_test_01_max_only.txt', cover=1)"
   ]
  },
  {
   "cell_type": "markdown",
   "metadata": {},
   "source": [
    "### ROC"
   ]
  },
  {
   "cell_type": "code",
   "execution_count": 59,
   "metadata": {},
   "outputs": [
    {
     "data": {
      "image/png": "[encoded data removed]",
      "text/plain": [
       "<Figure size 432x288 with 1 Axes>"
      ]
     },
     "metadata": {
      "needs_background": "light"
     },
     "output_type": "display_data"
    }
   ],
   "source": [
    "plt.figure()\n",
    "plt.title(\"ROC\")\n",
    "\n",
    "# Original\n",
    "fpr, tpr, thr = sklearn.metrics.roc_curve(y_tr,predict_train_original)\n",
    "plt.plot(fpr, tpr, color='red', label='original')\n",
    "\n",
    "# 01 Max\n",
    "fpr, tpr, thr = sklearn.metrics.roc_curve(y_tr,predict_train_01_max)\n",
    "plt.plot(fpr, tpr, color='green', label='01 max')\n",
    "\n",
    "plt.legend()\n",
    "plt.savefig('./2_ROC.jpg')"
   ]
  },
  {
   "cell_type": "markdown",
   "metadata": {},
   "source": [
    "### Coefficient plot"
   ]
  },
  {
   "cell_type": "code",
   "execution_count": 81,
   "metadata": {},
   "outputs": [
    {
     "data": {
      "image/png": "[encoded data removed]",
      "text/plain": [
       "<Figure size 432x288 with 2 Axes>"
      ]
     },
     "metadata": {
      "needs_background": "light"
     },
     "output_type": "display_data"
    },
    {
     "data": {
      "image/png": "[encoded data removed]",
      "text/plain": [
       "<Figure size 432x288 with 1 Axes>"
      ]
     },
     "metadata": {
      "needs_background": "light"
     },
     "output_type": "display_data"
    }
   ],
   "source": [
    "#coef_original\n",
    "coef_image_original = []\n",
    "for row in list(range(28)):\n",
    "    coef_image_original.append(coef_original[28*row+0 : 28*row+28])\n",
    "    #print(sp_vector[row+0:row+27])\n",
    "    \n",
    "plt.figure()\n",
    "plt.subplot(1, 2, 1)\n",
    "plt.title(\"Wight for original model\")\n",
    "plt.xlabel('Row')\n",
    "plt.ylabel('Colomn')\n",
    "plt.imshow(coef_image_original, cmap=plt.cm.RdYlBu, vmin=-0.5, vmax=0.5)\n",
    "\n",
    "\n",
    "#coef_max\n",
    "coef_image_max = []\n",
    "for row in list(range(28)):\n",
    "    coef_image_max.append(np.hstack((coef_01_max[28*row+0:28*row+28],coef_01_max[784 + 28*row+0 : 784 + 28*row+28])))\n",
    "    #print(sp_vector[row+0:row+27])\n",
    "\n",
    "plt.subplot(1, 2, 2)\n",
    "plt.title(\"Wight for 01 max model\")\n",
    "plt.xlabel('Row')\n",
    "plt.ylabel('Colomn')\n",
    "plt.imshow(coef_image_max, cmap=plt.cm.RdYlBu, vmin=-0.5, vmax=0.5)\n",
    "plt.savefig('./2_weight.jpg')\n",
    "\n",
    "#coef_max_only\n",
    "coef_image_max_only = []\n",
    "for row in list(range(28)):\n",
    "    coef_image_max_only.append(coef_01_max_only[28*row+0:28*row+28])\n",
    "    #print(sp_vector[row+0:row+27])\n",
    "\n",
    "plt.figure()\n",
    "plt.title(\"Wight for 01 max only model\")\n",
    "plt.xlabel('Row')\n",
    "plt.ylabel('Colomn')\n",
    "plt.imshow(coef_image_max_only, cmap=plt.cm.RdYlBu, vmin=-0.5, vmax=0.5)\n",
    "plt.savefig('./2_max_only_weight.jpg')"
   ]
  },
  {
   "cell_type": "markdown",
   "metadata": {},
   "source": [
    "### Original information"
   ]
  },
  {
   "cell_type": "code",
   "execution_count": 75,
   "metadata": {},
   "outputs": [
    {
     "data": {
      "image/png": "[encoded data removed]",
      "text/plain": [
       "<Figure size 432x288 with 1 Axes>"
      ]
     },
     "metadata": {
      "needs_background": "light"
     },
     "output_type": "display_data"
    },
    {
     "data": {
      "image/png": "[encoded data removed]",
      "text/plain": [
       "<Figure size 432x288 with 1 Axes>"
      ]
     },
     "metadata": {
      "needs_background": "light"
     },
     "output_type": "display_data"
    },
    {
     "data": {
      "image/png": "[encoded data removed]",
      "text/plain": [
       "<Figure size 432x288 with 1 Axes>"
      ]
     },
     "metadata": {
      "needs_background": "light"
     },
     "output_type": "display_data"
    },
    {
     "data": {
      "image/png": "[encoded data removed]",
      "text/plain": [
       "<Figure size 432x288 with 1 Axes>"
      ]
     },
     "metadata": {
      "needs_background": "light"
     },
     "output_type": "display_data"
    }
   ],
   "source": [
    "# make max image\n",
    "\n",
    "vector = x_tr_max_all[0]\n",
    "image = []\n",
    "for row in list(range(28)):\n",
    "    image.append(np.hstack((vector[28*row+0:28*row+28],vector[784 + 28*row+0 : 784 + 28*row+28])))\n",
    "max_image = image\n",
    "    \n",
    "    \n",
    "plt.figure()\n",
    "plt.title(\"Max Image\")\n",
    "plt.imshow(max_image, cmap=plt.cm.gray)\n",
    "plt.savefig('./2_max_image.jpg')\n",
    "\n",
    "\n",
    "\n",
    "\n",
    "## make 01 max image\n",
    "\n",
    "vector = x_tr_01_max_all[0]\n",
    "image = []\n",
    "for row in list(range(28)):\n",
    "    image.append(np.hstack((vector[28*row+0:28*row+28],vector[784 + 28*row+0 : 784 + 28*row+28])))\n",
    "max_01_image = image\n",
    "    \n",
    "    \n",
    "plt.figure()\n",
    "plt.title(\"01 Max Image\")\n",
    "plt.imshow(max_01_image, cmap=plt.cm.gray)\n",
    "plt.savefig('./2_01_max_image.jpg')\n",
    "\n",
    "\n",
    "\n",
    "\n",
    "# make square image\n",
    "\n",
    "vector = x_tr_sqr_all[0]\n",
    "image = []\n",
    "for row in list(range(28)):\n",
    "    image.append(np.hstack((vector[28*row+0:28*row+28],vector[784 + 28*row+0 : 784 + 28*row+28])))\n",
    "sqr_image = image\n",
    "    \n",
    "    \n",
    "plt.figure()\n",
    "plt.title(\"Sqr Image\")\n",
    "plt.imshow(sqr_image, cmap=plt.cm.gray)\n",
    "plt.savefig('./2_sqr_image.jpg')\n",
    "\n",
    "\n",
    "\n",
    "# make 01 square image\n",
    "\n",
    "vector = x_tr_01_sqr_all[0]\n",
    "image = []\n",
    "for row in list(range(28)):\n",
    "    image.append(np.hstack((vector[28*row+0:28*row+28],vector[784 + 28*row+0 : 784 + 28*row+28])))\n",
    "sqr_01_image = image\n",
    "    \n",
    "    \n",
    "plt.figure()\n",
    "plt.title(\"01 Sqr Image\")\n",
    "plt.imshow(sqr_image, cmap=plt.cm.gray)\n",
    "plt.savefig('./2_01_sqr_image.jpg')"
   ]
  },
  {
   "cell_type": "code",
   "execution_count": null,
   "metadata": {},
   "outputs": [],
   "source": []
  },
  {
   "cell_type": "code",
   "execution_count": null,
   "metadata": {},
   "outputs": [],
   "source": []
  }
 ],
 "metadata": {
  "kernelspec": {
   "display_name": "Python 3",
   "language": "python",
   "name": "python3"
  },
  "language_info": {
   "codemirror_mode": {
    "name": "ipython",
    "version": 3
   },
   "file_extension": ".py",
   "mimetype": "text/x-python",
   "name": "python",
   "nbconvert_exporter": "python",
   "pygments_lexer": "ipython3",
   "version": "3.7.5"
  }
 },
 "nbformat": 4,
 "nbformat_minor": 2
}
