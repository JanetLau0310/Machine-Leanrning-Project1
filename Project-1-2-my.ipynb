{
 "cells": [
  {
   "cell_type": "code",
   "execution_count": 1,
   "metadata": {},
   "outputs": [],
   "source": [
    "import os\n",
    "import math\n",
    "import numpy as np\n",
    "import pandas as pd\n",
    "\n",
    "import warnings\n",
    "\n",
    "import sklearn.linear_model\n",
    "import sklearn.tree\n",
    "import sklearn.metrics\n",
    "\n",
    "from matplotlib import pyplot as plt\n",
    "import seaborn as sns\n",
    "%matplotlib inline\n",
    "plt.style.use('seaborn') # pretty matplotlib plots"
   ]
  },
  {
   "cell_type": "code",
   "execution_count": 2,
   "metadata": {},
   "outputs": [],
   "source": [
    "x_tr_original = np.loadtxt('./data_sneaker_vs_sandal/x_train.csv', delimiter=',', skiprows=1)\n",
    "x_te_original = np.loadtxt('./data_sneaker_vs_sandal/x_test.csv', delimiter=',', skiprows=1)\n",
    "\n",
    "y_tr = np.loadtxt('./data_sneaker_vs_sandal/y_train.csv', delimiter=',', skiprows=1)"
   ]
  },
  {
   "cell_type": "code",
   "execution_count": null,
   "metadata": {},
   "outputs": [],
   "source": [
    "def train_model(X, Y, c=1.0):\n",
    "    clf = sklearn.linear_model.LogisticRegression(solver='liblinear',C=c).fit(X, Y)\n",
    "    \n",
    "    return clf\n",
    "\n",
    "def auto_train(X, Y, test_x, file_name, c=1.0, cover=0):\n",
    "    clf = train_model(X, Y, c)\n",
    "    yproba1_train = clf.predict_proba(X)[:,1]\n",
    "    yproba1_test = clf.predict_proba(test_x)[:, 1]\n",
    "    np.savetxt(file_name, yproba1_test)\n",
    "    if cover==1:\n",
    "        np.savetxt('yproba1_test.txt', yproba1_test)\n",
    "    return [yproba1_train, clf.coef_[0]]"
   ]
  },
  {
   "cell_type": "markdown",
   "metadata": {},
   "source": []
  },
  {
   "cell_type": "code",
   "execution_count": null,
   "metadata": {},
   "outputs": [],
   "source": [
    "from sklearn.datasets import load_breast_cancer\n",
    "from sklearn.model_selection import train_test_split\n",
    "from xgboost import XGBClassifier\n",
    "from sklearn.preprocessing import MinMaxScaler,StandardScaler\n",
    "\n",
    "scaler = StandardScaler()\n",
    "scaler.fit(x_tr_original)\n",
    "x_train_scaler = scaler.transform(x_tr_original)\n",
    "\n",
    "xgb_clf = XGBClassifier(n_estimators=6,max_depth=5,colsample_bytree=0.7,learning_rate=0.3,reg_lambda=1,seed=10,n_jobs=-1)\n",
    "xgb_clf.fit(x_train_scaler,y_tr)\n",
    "x_test_scaler = scaler.fit_transform(x_te_original)\n",
    "\n",
    "predict_train_scaler, coef_scaler = auto_train(x_train_scaler,y_tr, x_test_scaler,  'yproba1_test_scaler.txt', cover=1)"
   ]
  },
  {
   "cell_type": "code",
   "execution_count": null,
   "metadata": {},
   "outputs": [],
   "source": []
  },
  {
   "cell_type": "code",
   "execution_count": null,
   "metadata": {},
   "outputs": [],
   "source": []
  },
  {
   "cell_type": "code",
   "execution_count": null,
   "metadata": {},
   "outputs": [],
   "source": [
    "'''\n",
    "clf_original = train_model(x_tr_original, y_tr)\n",
    "\n",
    "yproba1_test_original = clf_original.predict_proba(x_te_original)[:, 1]\n",
    "np.savetxt('yproba1_test_original.txt', yproba1_test_original)\n",
    "'''\n",
    "[predict_train_original, coef_original] = auto_train(x_tr_original, y_tr, x_te_original, 'yproba1_test_original.txt', cover=1)\n",
    "[predict_train_01, coef_01] = auto_train(x_tr_01, y_tr, x_te_01, 'yproba1_test_01.txt', cover=1)"
   ]
  },
  {
   "cell_type": "code",
   "execution_count": null,
   "metadata": {},
   "outputs": [],
   "source": []
  }
 ],
 "metadata": {
  "kernelspec": {
   "display_name": "Python 3",
   "language": "python",
   "name": "python3"
  },
  "language_info": {
   "codemirror_mode": {
    "name": "ipython",
    "version": 3
   },
   "file_extension": ".py",
   "mimetype": "text/x-python",
   "name": "python",
   "nbconvert_exporter": "python",
   "pygments_lexer": "ipython3",
   "version": "3.7.5"
  }
 },
 "nbformat": 4,
 "nbformat_minor": 2
}
